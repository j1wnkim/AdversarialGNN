{
  "cells": [
    {
      "cell_type": "markdown",
      "metadata": {
        "colab_type": "text",
        "id": "wxitJTPsv9OS"
      },
      "source": [
        "## Loading the dataset"
      ]
    },
    {
      "cell_type": "code",
      "execution_count": 1,
      "metadata": {},
      "outputs": [],
      "source": [
        "from torch_geometric import datasets\n",
        "import torch \n",
        "from torch_geometric.utils import subgraph\n",
        "\n",
        "dataset = datasets.Planetoid(root = \"/home/jik19004/FilesToRun/AdversarialGNN/MIA/blackbox/Shadow\", name = \"CiteSeer\")\n",
        "data = dataset[0]\n",
        "\n",
        "labels = data.y\n",
        "nodes = torch.arange(data.num_nodes)  # Indices of all nodes"
      ]
    },
    {
      "cell_type": "code",
      "execution_count": 2,
      "metadata": {},
      "outputs": [],
      "source": [
        "import random \n",
        "from torch.nn.functional import one_hot \n",
        "\n",
        "def generateData(data, graph_sample:float, train_split:float, val_split:float): ## Trivially test would also be part of the split. \n",
        "    labels = data.y\n",
        "    nodes = torch.arange(data.num_nodes)  # Indices of all nodes\n",
        "\n",
        "    torch.manual_seed(101)  # Set random seed for reproducibility\n",
        "    num_sampled = int(graph_sample * data.num_nodes)\n",
        "    \n",
        "    randomPerm = torch.randperm(data.num_nodes)\n",
        "    sampled_nodes = nodes[randomPerm[:num_sampled]]\n",
        "    excluded_nodes = nodes[randomPerm[num_sampled:]] # take the excluded nodes. \n",
        "    \n",
        "\n",
        "    subgraph_edge_index, subgraph_edge_mask = subgraph(\n",
        "        sampled_nodes, data.edge_index, relabel_nodes=True\n",
        "    )\n",
        "    \n",
        "    excluded_edge_index, excluded_edge_mask = subgraph(\n",
        "        excluded_nodes, data.edge_index, relabel_nodes = True \n",
        "    )\n",
        "\n",
        "    subgraph_data = data.clone()\n",
        "    subgraph_data.edge_index = subgraph_edge_index\n",
        "    subgraph_data.x = data.x[sampled_nodes]\n",
        "    subgraph_data.y = data.y[sampled_nodes]\n",
        "    \n",
        "    excluded_data = data.clone()\n",
        "    excluded_data.edge_index = excluded_edge_index\n",
        "    excluded_data.x = excluded_data.x[excluded_nodes]\n",
        "    excluded_data.y = excluded_data.y[excluded_nodes]\n",
        "    \n",
        "    \n",
        "    train_mask = torch.tensor([False for x in range(len(subgraph_data.x))]) # first initially create it false. \n",
        "    false_mask = train_mask.clone() \n",
        "\n",
        "    indices = [i for i in range(len(subgraph_data.x))] # the inidices \n",
        "    random.shuffle(indices)\n",
        "\n",
        "    train_len = int(train_split*len(subgraph_data.x)) # take a subset \n",
        "    train_mask[indices[:train_len]] = True \n",
        "\n",
        "    rem_indices = indices[train_len:].copy() # take the remaining subset. \n",
        "    val_len = int(val_split * len(rem_indices)) \n",
        "    val_mask = false_mask.clone() \n",
        "    val_mask[rem_indices[:val_len]] = True \n",
        "\n",
        "    test_indices = rem_indices[val_len:] # the very last indices not used yet. \n",
        "    test_mask = false_mask.clone() \n",
        "    test_mask[test_indices] = True # take the very last test indices \n",
        "\n",
        "    subgraph_data.y = one_hot(subgraph_data.y) # deploy one hot \n",
        "    excluded_data.y = one_hot(excluded_data.y)\n",
        "    subgraph_data.train_mask = train_mask \n",
        "    subgraph_data.val_mask = val_mask \n",
        "    subgraph_data.test_mask = test_mask \n",
        "    \n",
        "    return subgraph_data, excluded_data \n"
      ]
    },
    {
      "cell_type": "code",
      "execution_count": 3,
      "metadata": {},
      "outputs": [],
      "source": [
        "subgraph_data, excluded_original_nodes = generateData(data, 0.8, 0.25, 0.2)"
      ]
    },
    {
      "cell_type": "code",
      "execution_count": 4,
      "metadata": {
        "colab": {},
        "colab_type": "code",
        "id": "-Z_rs8Uqv9QB"
      },
      "outputs": [],
      "source": [
        "from torch_geometric.nn import SAGEConv \n",
        "import torch.nn.functional as F \n",
        "\n",
        "class GraphSAGE(torch.nn.Module):\n",
        "    def __init__(self, in_channels, hidden_channels, out_channels, dropout):\n",
        "        super(GraphSAGE, self).__init__()\n",
        "        self.conv1 = SAGEConv(in_channels, hidden_channels)\n",
        "        self.conv2 = SAGEConv(hidden_channels, out_channels)\n",
        "        self.dropout = dropout \n",
        "\n",
        "    def forward(self, data):\n",
        "        x, edge_index = data.x, data.edge_index\n",
        "\n",
        "        x = self.conv1(x, edge_index)\n",
        "        x = F.relu(x)\n",
        "        x = F.dropout(x, p=self.dropout, training=self.training)\n",
        "\n",
        "        # Second layer\n",
        "        x = self.conv2(x, edge_index)\n",
        "        \n",
        "        return x ## we're using cross entropy loss so put out the raw logits as output.  \n",
        "         \n",
        "\n",
        "# Set up the device\n",
        "device = torch.device('cuda' if torch.cuda.is_available() else 'cpu')"
      ]
    },
    {
      "cell_type": "code",
      "execution_count": 5,
      "metadata": {},
      "outputs": [],
      "source": [
        "from torch.nn.functional import cross_entropy\n",
        "import numpy as np \n",
        "import pandas as pd \n",
        "\n",
        "def Train_and_Evaluate(model, data, epochs, callback, optimizer, device, path = \"GraphSage_Citeseer\"):\n",
        "    model.to(device)\n",
        "    data.to(device) # set to the same device. \n",
        "    \n",
        "    track_call = 0 \n",
        "    best_val_loss = np.inf # for callback. \n",
        "    \n",
        "    train_losses = [] \n",
        "    val_losses = [] \n",
        "    \n",
        "    train_y = data.y[data.train_mask].float()\n",
        "    val_y = data.y[data.val_mask].float()\n",
        "    \n",
        "    len_train = data.y[data.train_mask].shape[0]\n",
        "    len_val = data.y[data.val_mask].shape[0]\n",
        "    for i in range(epochs): # go through the epochs.\n",
        "        train_accuracy = 0 \n",
        "        val_accuracy = 0 \n",
        "        \n",
        "        model.train()\n",
        "        outputs = model(data) \n",
        "        loss = cross_entropy(outputs[data.train_mask], train_y) # evaluate the loss  \n",
        "        \n",
        "        output_label = torch.argmax(outputs[data.train_mask], dim = 1)\n",
        "        train_accuracy = ((output_label == torch.argmax(train_y, dim = 1)).sum())/len_train\n",
        "        \n",
        "        loss.backward() # perform backprop and update \n",
        "        optimizer.step() \n",
        "        loss2 = None \n",
        "        \n",
        "        with torch.no_grad(): \n",
        "            model.eval() \n",
        "            val_outputs = model(data)\n",
        "            loss2 = cross_entropy(val_outputs[data.val_mask], val_y) # evaluate for cross entropy \n",
        "            \n",
        "            val_label = torch.argmax(val_outputs[data.val_mask], dim = 1) \n",
        "            val_accuracy = ((val_label == torch.argmax(val_y, dim = 1)).sum())/len_val\n",
        "            \n",
        "            val_losses.append(loss2.item()) # append the val loss.\n",
        "            \n",
        "        print(f\"Epoch: {i + 1}, train_loss: {loss.item()}, train_acc: {train_accuracy.item()}, val_loss: {loss2.item()}, val_acc: {val_accuracy.item()}\")\n",
        "        train_losses.append(loss.item())    # append train loss.  \n",
        "        if loss2.item() <= best_val_loss: \n",
        "            best_val_loss = loss2.item() \n",
        "            track_call = 0\n",
        "            torch.save(model, path) # save the model for the best weights. \n",
        "        elif loss2.item() > best_val_loss and track_call < callback: \n",
        "            track_call +=1 \n",
        "        else:\n",
        "            return train_losses, val_losses"
      ]
    },
    {
      "cell_type": "code",
      "execution_count": 6,
      "metadata": {},
      "outputs": [
        {
          "name": "stdout",
          "output_type": "stream",
          "text": [
            "Epoch: 1, train_loss: 1.8166007995605469, train_acc: 0.10676691681146622, val_loss: 1.7952275276184082, val_acc: 0.16040100157260895\n",
            "Epoch: 2, train_loss: 1.7742228507995605, train_acc: 0.2571428716182709, val_loss: 1.7720484733581543, val_acc: 0.24310776591300964\n",
            "Epoch: 3, train_loss: 1.7342220544815063, train_acc: 0.3864661753177643, val_loss: 1.7455034255981445, val_acc: 0.35087719559669495\n",
            "Epoch: 4, train_loss: 1.6938663721084595, train_acc: 0.5263158082962036, val_loss: 1.7147444486618042, val_acc: 0.46867167949676514\n",
            "Epoch: 5, train_loss: 1.643661379814148, train_acc: 0.6676691770553589, val_loss: 1.680830478668213, val_acc: 0.5839598774909973\n",
            "Epoch: 6, train_loss: 1.5967881679534912, train_acc: 0.7563909888267517, val_loss: 1.644533395767212, val_acc: 0.6265664100646973\n",
            "Epoch: 7, train_loss: 1.5352783203125, train_acc: 0.7939849495887756, val_loss: 1.6067465543746948, val_acc: 0.6416040062904358\n",
            "Epoch: 8, train_loss: 1.475706934928894, train_acc: 0.830075204372406, val_loss: 1.5684797763824463, val_acc: 0.6491227746009827\n",
            "Epoch: 9, train_loss: 1.421136736869812, train_acc: 0.821052610874176, val_loss: 1.5301361083984375, val_acc: 0.6541353464126587\n",
            "Epoch: 10, train_loss: 1.3549213409423828, train_acc: 0.8285714387893677, val_loss: 1.4927947521209717, val_acc: 0.6516290903091431\n",
            "Epoch: 11, train_loss: 1.3042725324630737, train_acc: 0.8120300769805908, val_loss: 1.4564824104309082, val_acc: 0.6516290903091431\n",
            "Epoch: 12, train_loss: 1.241585612297058, train_acc: 0.830075204372406, val_loss: 1.42153000831604, val_acc: 0.6516290903091431\n",
            "Epoch: 13, train_loss: 1.1886019706726074, train_acc: 0.8180451393127441, val_loss: 1.387730360031128, val_acc: 0.6516290903091431\n",
            "Epoch: 14, train_loss: 1.1412832736968994, train_acc: 0.8150376081466675, val_loss: 1.35507071018219, val_acc: 0.646616518497467\n",
            "Epoch: 15, train_loss: 1.0839314460754395, train_acc: 0.830075204372406, val_loss: 1.32340407371521, val_acc: 0.646616518497467\n",
            "Epoch: 16, train_loss: 1.0304814577102661, train_acc: 0.8285714387893677, val_loss: 1.292688250541687, val_acc: 0.6516290903091431\n",
            "Epoch: 17, train_loss: 0.9737783670425415, train_acc: 0.830075204372406, val_loss: 1.2628846168518066, val_acc: 0.6491227746009827\n",
            "Epoch: 18, train_loss: 0.9285575151443481, train_acc: 0.830075204372406, val_loss: 1.2340059280395508, val_acc: 0.6491227746009827\n",
            "Epoch: 19, train_loss: 0.8933523297309875, train_acc: 0.8496240973472595, val_loss: 1.2060129642486572, val_acc: 0.6566416025161743\n",
            "Epoch: 20, train_loss: 0.8344830274581909, train_acc: 0.8586466312408447, val_loss: 1.1788702011108398, val_acc: 0.6566416025161743\n",
            "Epoch: 21, train_loss: 0.7917993664741516, train_acc: 0.8481203317642212, val_loss: 1.1525546312332153, val_acc: 0.6641603708267212\n",
            "Epoch: 22, train_loss: 0.7604840397834778, train_acc: 0.8496240973472595, val_loss: 1.1270415782928467, val_acc: 0.6666666865348816\n",
            "Epoch: 23, train_loss: 0.7072659134864807, train_acc: 0.8646616339683533, val_loss: 1.1024161577224731, val_acc: 0.6741854548454285\n",
            "Epoch: 24, train_loss: 0.6669492125511169, train_acc: 0.8646616339683533, val_loss: 1.078755259513855, val_acc: 0.6691729426383972\n",
            "Epoch: 25, train_loss: 0.6316373944282532, train_acc: 0.8721804618835449, val_loss: 1.0561224222183228, val_acc: 0.6741854548454285\n",
            "Epoch: 26, train_loss: 0.594849169254303, train_acc: 0.8766917586326599, val_loss: 1.0346014499664307, val_acc: 0.6791979670524597\n",
            "Epoch: 27, train_loss: 0.5564032793045044, train_acc: 0.8827067613601685, val_loss: 1.0142573118209839, val_acc: 0.6867167949676514\n",
            "Epoch: 28, train_loss: 0.52793288230896, train_acc: 0.8932331204414368, val_loss: 0.9951441287994385, val_acc: 0.6842105388641357\n",
            "Epoch: 29, train_loss: 0.5006694197654724, train_acc: 0.8917293548583984, val_loss: 0.9774262309074402, val_acc: 0.689223051071167\n",
            "Epoch: 30, train_loss: 0.47596266865730286, train_acc: 0.8992481231689453, val_loss: 0.9612206220626831, val_acc: 0.689223051071167\n",
            "Epoch: 31, train_loss: 0.4363996684551239, train_acc: 0.906766951084137, val_loss: 0.9465779662132263, val_acc: 0.6867167949676514\n",
            "Epoch: 32, train_loss: 0.4230027198791504, train_acc: 0.9127819538116455, val_loss: 0.9335934519767761, val_acc: 0.689223051071167\n",
            "Epoch: 33, train_loss: 0.39896708726882935, train_acc: 0.9142857193946838, val_loss: 0.9222537279129028, val_acc: 0.6917293071746826\n",
            "Epoch: 34, train_loss: 0.37839439511299133, train_acc: 0.9172932505607605, val_loss: 0.9126138091087341, val_acc: 0.6942355632781982\n",
            "Epoch: 35, train_loss: 0.34005847573280334, train_acc: 0.9308270812034607, val_loss: 0.9046866297721863, val_acc: 0.6967418789863586\n",
            "Epoch: 36, train_loss: 0.3284399211406708, train_acc: 0.932330846786499, val_loss: 0.8984547257423401, val_acc: 0.6942355632781982\n",
            "Epoch: 37, train_loss: 0.31605803966522217, train_acc: 0.9308270812034607, val_loss: 0.8939222693443298, val_acc: 0.6967418789863586\n",
            "Epoch: 38, train_loss: 0.30004820227622986, train_acc: 0.9338346123695374, val_loss: 0.8910026550292969, val_acc: 0.6942355632781982\n",
            "Epoch: 39, train_loss: 0.2816718518733978, train_acc: 0.9383458495140076, val_loss: 0.8896692991256714, val_acc: 0.6917293071746826\n",
            "Epoch: 40, train_loss: 0.2606348395347595, train_acc: 0.9443609118461609, val_loss: 0.8899251818656921, val_acc: 0.6967418789863586\n",
            "Epoch: 41, train_loss: 0.24834609031677246, train_acc: 0.9443609118461609, val_loss: 0.891693651676178, val_acc: 0.6967418789863586\n",
            "Epoch: 42, train_loss: 0.23360265791416168, train_acc: 0.9443609118461609, val_loss: 0.8948671817779541, val_acc: 0.6942355632781982\n",
            "Epoch: 43, train_loss: 0.23574663698673248, train_acc: 0.9428571462631226, val_loss: 0.899372935295105, val_acc: 0.6867167949676514\n",
            "Epoch: 44, train_loss: 0.20578721165657043, train_acc: 0.9533834457397461, val_loss: 0.9051966667175293, val_acc: 0.6917293071746826\n",
            "Epoch: 45, train_loss: 0.20466023683547974, train_acc: 0.9593985080718994, val_loss: 0.9123141765594482, val_acc: 0.6942355632781982\n",
            "Epoch: 46, train_loss: 0.1923132687807083, train_acc: 0.9654135704040527, val_loss: 0.9207115769386292, val_acc: 0.6967418789863586\n",
            "Epoch: 47, train_loss: 0.1918279230594635, train_acc: 0.9578947424888611, val_loss: 0.9303680658340454, val_acc: 0.689223051071167\n",
            "Epoch: 48, train_loss: 0.175579234957695, train_acc: 0.9639098048210144, val_loss: 0.9412031173706055, val_acc: 0.689223051071167\n",
            "Epoch: 49, train_loss: 0.17476876080036163, train_acc: 0.9639098048210144, val_loss: 0.9530982971191406, val_acc: 0.6867167949676514\n",
            "Epoch: 50, train_loss: 0.17608879506587982, train_acc: 0.9609022736549377, val_loss: 0.9659635424613953, val_acc: 0.6842105388641357\n",
            "Epoch: 51, train_loss: 0.16658462584018707, train_acc: 0.9729323387145996, val_loss: 0.9797534346580505, val_acc: 0.6791979670524597\n",
            "Epoch: 52, train_loss: 0.1448129266500473, train_acc: 0.9729323387145996, val_loss: 0.994341254234314, val_acc: 0.6766917109489441\n",
            "Epoch: 53, train_loss: 0.14585724472999573, train_acc: 0.969924807548523, val_loss: 1.0095821619033813, val_acc: 0.6766917109489441\n",
            "Epoch: 54, train_loss: 0.14796146750450134, train_acc: 0.9654135704040527, val_loss: 1.0253278017044067, val_acc: 0.6817042827606201\n",
            "Epoch: 55, train_loss: 0.14369574189186096, train_acc: 0.9624060392379761, val_loss: 1.0414198637008667, val_acc: 0.6842105388641357\n",
            "Epoch: 56, train_loss: 0.1397220492362976, train_acc: 0.9624060392379761, val_loss: 1.0577096939086914, val_acc: 0.6817042827606201\n",
            "Epoch: 57, train_loss: 0.13250605762004852, train_acc: 0.969924807548523, val_loss: 1.0739864110946655, val_acc: 0.6817042827606201\n",
            "Epoch: 58, train_loss: 0.1323031783103943, train_acc: 0.9684210419654846, val_loss: 1.0900413990020752, val_acc: 0.6791979670524597\n",
            "Epoch: 59, train_loss: 0.1299523115158081, train_acc: 0.9639098048210144, val_loss: 1.1056939363479614, val_acc: 0.6766917109489441\n",
            "Epoch: 60, train_loss: 0.1148802787065506, train_acc: 0.9729323387145996, val_loss: 1.1207815408706665, val_acc: 0.6741854548454285\n",
            "Epoch: 61, train_loss: 0.11012444645166397, train_acc: 0.9744361042976379, val_loss: 1.1351507902145386, val_acc: 0.6716791987419128\n",
            "Epoch: 62, train_loss: 0.10098716616630554, train_acc: 0.9789474010467529, val_loss: 1.1486953496932983, val_acc: 0.6691729426383972\n",
            "Epoch: 63, train_loss: 0.10729503631591797, train_acc: 0.9729323387145996, val_loss: 1.161319375038147, val_acc: 0.6766917109489441\n",
            "Epoch: 64, train_loss: 0.08971930295228958, train_acc: 0.9804511666297913, val_loss: 1.1730146408081055, val_acc: 0.6766917109489441\n",
            "Epoch: 65, train_loss: 0.09214580059051514, train_acc: 0.9804511666297913, val_loss: 1.183768630027771, val_acc: 0.6766917109489441\n",
            "Epoch: 66, train_loss: 0.08254943042993546, train_acc: 0.9864661693572998, val_loss: 1.1937028169631958, val_acc: 0.6817042827606201\n",
            "Epoch: 67, train_loss: 0.07604458183050156, train_acc: 0.9864661693572998, val_loss: 1.2029216289520264, val_acc: 0.6842105388641357\n",
            "Epoch: 68, train_loss: 0.0689268559217453, train_acc: 0.9864661693572998, val_loss: 1.2115716934204102, val_acc: 0.6867167949676514\n",
            "Epoch: 69, train_loss: 0.08138445019721985, train_acc: 0.9834586381912231, val_loss: 1.2197973728179932, val_acc: 0.6791979670524597\n",
            "Epoch: 70, train_loss: 0.06672660261392593, train_acc: 0.9849624037742615, val_loss: 1.227747917175293, val_acc: 0.6817042827606201\n",
            "Epoch: 71, train_loss: 0.05332832783460617, train_acc: 0.9939849972724915, val_loss: 1.2357068061828613, val_acc: 0.6817042827606201\n",
            "Epoch: 72, train_loss: 0.05800262838602066, train_acc: 0.9849624037742615, val_loss: 1.2439244985580444, val_acc: 0.6867167949676514\n",
            "Epoch: 73, train_loss: 0.05788036808371544, train_acc: 0.9789474010467529, val_loss: 1.252629041671753, val_acc: 0.6842105388641357\n",
            "Epoch: 74, train_loss: 0.04368907958269119, train_acc: 0.9924812316894531, val_loss: 1.2619786262512207, val_acc: 0.689223051071167\n",
            "Epoch: 75, train_loss: 0.047454461455345154, train_acc: 0.9909774661064148, val_loss: 1.2721513509750366, val_acc: 0.6817042827606201\n",
            "Epoch: 76, train_loss: 0.05057138577103615, train_acc: 0.9894737005233765, val_loss: 1.2833236455917358, val_acc: 0.6867167949676514\n",
            "Epoch: 77, train_loss: 0.04524487257003784, train_acc: 0.9924812316894531, val_loss: 1.2956078052520752, val_acc: 0.6942355632781982\n",
            "Epoch: 78, train_loss: 0.03781159967184067, train_acc: 0.9909774661064148, val_loss: 1.3091434240341187, val_acc: 0.689223051071167\n",
            "Epoch: 79, train_loss: 0.03301980718970299, train_acc: 1.0, val_loss: 1.3240450620651245, val_acc: 0.6867167949676514\n",
            "Epoch: 80, train_loss: 0.04748343676328659, train_acc: 0.9909774661064148, val_loss: 1.340368390083313, val_acc: 0.689223051071167\n",
            "Epoch: 81, train_loss: 0.03268926590681076, train_acc: 0.9924812316894531, val_loss: 1.3581455945968628, val_acc: 0.6917293071746826\n",
            "Epoch: 82, train_loss: 0.02978532202541828, train_acc: 0.9924812316894531, val_loss: 1.3774126768112183, val_acc: 0.689223051071167\n",
            "Epoch: 83, train_loss: 0.038883913308382034, train_acc: 0.9924812316894531, val_loss: 1.3980828523635864, val_acc: 0.6917293071746826\n",
            "Epoch: 84, train_loss: 0.04075035825371742, train_acc: 0.9894737005233765, val_loss: 1.4201130867004395, val_acc: 0.6967418789863586\n",
            "Epoch: 85, train_loss: 0.03434782102704048, train_acc: 0.9894737005233765, val_loss: 1.4434300661087036, val_acc: 0.7017543911933899\n",
            "Epoch: 86, train_loss: 0.03762097284197807, train_acc: 0.9909774661064148, val_loss: 1.4679628610610962, val_acc: 0.7017543911933899\n",
            "Epoch: 87, train_loss: 0.030360637232661247, train_acc: 0.9939849972724915, val_loss: 1.4935376644134521, val_acc: 0.7042606472969055\n",
            "Epoch: 88, train_loss: 0.05898874253034592, train_acc: 0.9849624037742615, val_loss: 1.520043969154358, val_acc: 0.7017543911933899\n",
            "Epoch: 89, train_loss: 0.029469363391399384, train_acc: 0.9924812316894531, val_loss: 1.5473828315734863, val_acc: 0.7017543911933899\n",
            "Epoch: 90, train_loss: 0.05368083342909813, train_acc: 0.9834586381912231, val_loss: 1.5754514932632446, val_acc: 0.7017543911933899\n"
          ]
        }
      ],
      "source": [
        "from torch.optim import Adam\n",
        "\n",
        "model = GraphSAGE(in_channels = 3703, hidden_channels = 32, out_channels = 6, dropout = 0.25)\n",
        "device = torch.device(\"cuda\")\n",
        "train_losses, val_losses = Train_and_Evaluate(model, subgraph_data, 500, 50, Adam(model.parameters()), device)"
      ]
    },
    {
      "cell_type": "code",
      "execution_count": 7,
      "metadata": {},
      "outputs": [
        {
          "name": "stdout",
          "output_type": "stream",
          "text": [
            "1.12.1+cu102\n"
          ]
        }
      ],
      "source": [
        "print(torch.__version__)"
      ]
    },
    {
      "cell_type": "code",
      "execution_count": 8,
      "metadata": {},
      "outputs": [
        {
          "data": {
            "text/plain": [
              "<matplotlib.legend.Legend at 0x7f899cc15cd0>"
            ]
          },
          "execution_count": 8,
          "metadata": {},
          "output_type": "execute_result"
        },
        {
          "data": {
            "image/png": "[encoded data removed]",
            "text/plain": [
              "<Figure size 500x600 with 1 Axes>"
            ]
          },
          "metadata": {},
          "output_type": "display_data"
        }
      ],
      "source": [
        "import matplotlib.pyplot as plt \n",
        "\n",
        "fig = plt.figure(figsize = [5,6])\n",
        "axes = fig.add_axes(rect = [0,0,2.2,0.8])\n",
        "axes.plot([i for i in range(len(train_losses))], train_losses, label = \"train_loss\")\n",
        "axes.plot([i for i in range(len(val_losses))], val_losses, label = \"val_loss\")\n",
        "plt.xlabel(\"Epochs\")\n",
        "plt.ylabel(\"Loss (Cross Entropy)\")\n",
        "axes.legend()"
      ]
    },
    {
      "cell_type": "code",
      "execution_count": 9,
      "metadata": {},
      "outputs": [],
      "source": [
        "def Evaluate_Test(model, data, test_mask = True):\n",
        "    model.eval()\n",
        "    if test_mask: \n",
        "        outputs = model(data)[data.test_mask]\n",
        "        outputs_label = torch.argmax(outputs, dim = 1)\n",
        "        actual_val = torch.argmax(data.y[data.test_mask], dim = 1)\n",
        "    else:\n",
        "        outputs = model(data)\n",
        "        outputs_label = torch.argmax(outputs, dim = 1)\n",
        "        actual_val = torch.argmax(data.y, dim = 1)        \n",
        "\n",
        "    \n",
        "    print(\"Test Accuracy: \", ((actual_val == outputs_label).sum())/outputs_label.shape[0])"
      ]
    },
    {
      "cell_type": "code",
      "execution_count": 10,
      "metadata": {},
      "outputs": [
        {
          "name": "stdout",
          "output_type": "stream",
          "text": [
            "Test Accuracy:  tensor(0.7026, device='cuda:0')\n"
          ]
        }
      ],
      "source": [
        "model = torch.load(r\"/home/jik19004/FilesToRun/AdversarialGNN/MIA/blackbox/Shadow/GraphSage_Citeseer\")\n",
        "model.eval() # set it to eval mode. \n",
        "outputs = model(subgraph_data)[subgraph_data.test_mask]\n",
        "outputs_label = torch.argmax(outputs, dim = 1) \n",
        "actual_val = torch.argmax(subgraph_data.y[subgraph_data.test_mask], dim = 1)  # take the actual y \n",
        "\n",
        "print(\"Test Accuracy: \", ((actual_val == outputs_label).sum())/outputs_label.shape[0])"
      ]
    },
    {
      "cell_type": "markdown",
      "metadata": {
        "colab_type": "text",
        "id": "wHL1nFqqD_iw"
      },
      "source": [
        "# **Shadow Model**"
      ]
    },
    {
      "cell_type": "markdown",
      "metadata": {},
      "source": [
        "First we take a sample of nodes "
      ]
    },
    {
      "cell_type": "code",
      "execution_count": 11,
      "metadata": {},
      "outputs": [],
      "source": [
        "import torch.nn as nn \n",
        "class shadowClassifier(torch.nn.Module): \n",
        "    def __init__(self, input_size, output_size = 2):\n",
        "        super(shadowClassifier,self).__init__()\n",
        "        self.input_size = input_size \n",
        "        self.output_size = output_size \n",
        "        self.linear_layer = nn.Linear(input_size, output_size, bias = True)\n",
        "        self.softmax = nn.Softmax()\n",
        "        \n",
        "    def forward(self, data):\n",
        "        x = self.softmax(data)\n",
        "        x = self.linear_layer(x)\n",
        "        \n",
        "        return x ## for the classification. \n",
        "        "
      ]
    },
    {
      "cell_type": "code",
      "execution_count": 12,
      "metadata": {},
      "outputs": [
        {
          "name": "stdout",
          "output_type": "stream",
          "text": [
            "Epoch: 1, train_loss: 1.8170892000198364, train_acc: 0.10952039808034897, val_loss: 1.7982732057571411, val_acc: 0.10084034502506256\n",
            "Epoch: 2, train_loss: 1.7793872356414795, train_acc: 0.23407301306724548, val_loss: 1.7730423212051392, val_acc: 0.1764705926179886\n",
            "Epoch: 3, train_loss: 1.742781162261963, train_acc: 0.342877596616745, val_loss: 1.7456388473510742, val_acc: 0.3361344635486603\n",
            "Epoch: 4, train_loss: 1.7040948867797852, train_acc: 0.4674302041530609, val_loss: 1.7153369188308716, val_acc: 0.43697482347488403\n",
            "Epoch: 5, train_loss: 1.6615382432937622, train_acc: 0.5977093577384949, val_loss: 1.6823123693466187, val_acc: 0.5462185144424438\n",
            "Epoch: 6, train_loss: 1.6145212650299072, train_acc: 0.7000715732574463, val_loss: 1.6473642587661743, val_acc: 0.605042040348053\n",
            "Epoch: 7, train_loss: 1.561997652053833, train_acc: 0.7372941970825195, val_loss: 1.6109702587127686, val_acc: 0.6302521228790283\n",
            "Epoch: 8, train_loss: 1.5095516443252563, train_acc: 0.748031497001648, val_loss: 1.5734446048736572, val_acc: 0.6554622054100037\n",
            "Epoch: 9, train_loss: 1.4617809057235718, train_acc: 0.7652111649513245, val_loss: 1.5356910228729248, val_acc: 0.6554622054100037\n",
            "Epoch: 10, train_loss: 1.4081521034240723, train_acc: 0.7673586010932922, val_loss: 1.498759150505066, val_acc: 0.6638655662536621\n",
            "Epoch: 11, train_loss: 1.3545962572097778, train_acc: 0.7673586010932922, val_loss: 1.462857961654663, val_acc: 0.6638655662536621\n",
            "Epoch: 12, train_loss: 1.3140133619308472, train_acc: 0.7551896572113037, val_loss: 1.4278162717819214, val_acc: 0.6638655662536621\n",
            "Epoch: 13, train_loss: 1.2589303255081177, train_acc: 0.7716535329818726, val_loss: 1.3934804201126099, val_acc: 0.6890756487846375\n",
            "Epoch: 14, train_loss: 1.2129440307617188, train_acc: 0.7487472891807556, val_loss: 1.359948754310608, val_acc: 0.6974790096282959\n",
            "Epoch: 15, train_loss: 1.1670016050338745, train_acc: 0.7687902450561523, val_loss: 1.327176570892334, val_acc: 0.6974790096282959\n",
            "Epoch: 16, train_loss: 1.1257275342941284, train_acc: 0.7487472891807556, val_loss: 1.2948850393295288, val_acc: 0.7142857313156128\n",
            "Epoch: 17, train_loss: 1.0745829343795776, train_acc: 0.759484589099884, val_loss: 1.26315438747406, val_acc: 0.6974790096282959\n",
            "Epoch: 18, train_loss: 1.0323607921600342, train_acc: 0.7752326130867004, val_loss: 1.2318373918533325, val_acc: 0.6974790096282959\n",
            "Epoch: 19, train_loss: 1.004531741142273, train_acc: 0.7723693251609802, val_loss: 1.2009817361831665, val_acc: 0.6974790096282959\n",
            "Epoch: 20, train_loss: 0.9605766534805298, train_acc: 0.7802433371543884, val_loss: 1.1707097291946411, val_acc: 0.6890756487846375\n",
            "Epoch: 21, train_loss: 0.9249699711799622, train_acc: 0.7752326130867004, val_loss: 1.1410588026046753, val_acc: 0.6890756487846375\n",
            "Epoch: 22, train_loss: 0.8797978758811951, train_acc: 0.787401556968689, val_loss: 1.1119787693023682, val_acc: 0.6974790096282959\n",
            "Epoch: 23, train_loss: 0.8430382013320923, train_acc: 0.7866857051849365, val_loss: 1.0835988521575928, val_acc: 0.6974790096282959\n",
            "Epoch: 24, train_loss: 0.8104166388511658, train_acc: 0.7916964888572693, val_loss: 1.0560861825942993, val_acc: 0.6974790096282959\n",
            "Epoch: 25, train_loss: 0.7945845723152161, train_acc: 0.7974230051040649, val_loss: 1.0295180082321167, val_acc: 0.7058823704719543\n",
            "Epoch: 26, train_loss: 0.7560932636260986, train_acc: 0.7952755689620972, val_loss: 1.0041439533233643, val_acc: 0.7058823704719543\n",
            "Epoch: 27, train_loss: 0.7260653972625732, train_acc: 0.8052970170974731, val_loss: 0.9798558950424194, val_acc: 0.7142857313156128\n",
            "Epoch: 28, train_loss: 0.7068248987197876, train_acc: 0.7952755689620972, val_loss: 0.9566469788551331, val_acc: 0.7226890921592712\n",
            "Epoch: 29, train_loss: 0.67265784740448, train_acc: 0.8181818127632141, val_loss: 0.9345937967300415, val_acc: 0.7226890921592712\n",
            "Epoch: 30, train_loss: 0.6618772149085999, train_acc: 0.8095919489860535, val_loss: 0.913820743560791, val_acc: 0.7226890921592712\n",
            "Epoch: 31, train_loss: 0.6281073093414307, train_acc: 0.821760892868042, val_loss: 0.8943336606025696, val_acc: 0.7226890921592712\n",
            "Epoch: 32, train_loss: 0.6102758646011353, train_acc: 0.8253399729728699, val_loss: 0.8762047290802002, val_acc: 0.7310924530029297\n",
            "Epoch: 33, train_loss: 0.5837481617927551, train_acc: 0.8360772728919983, val_loss: 0.8594034910202026, val_acc: 0.7394958138465881\n",
            "Epoch: 34, train_loss: 0.5559164881706238, train_acc: 0.8489620685577393, val_loss: 0.8440161347389221, val_acc: 0.7394958138465881\n",
            "Epoch: 35, train_loss: 0.5419466495513916, train_acc: 0.846098780632019, val_loss: 0.8300117254257202, val_acc: 0.7394958138465881\n",
            "Epoch: 36, train_loss: 0.5316887497901917, train_acc: 0.8554044365882874, val_loss: 0.8172979950904846, val_acc: 0.7394958138465881\n",
            "Epoch: 37, train_loss: 0.5132231116294861, train_acc: 0.8596993088722229, val_loss: 0.8059597611427307, val_acc: 0.7478991746902466\n",
            "Epoch: 38, train_loss: 0.4959258437156677, train_acc: 0.8496778607368469, val_loss: 0.7959570288658142, val_acc: 0.7478991746902466\n",
            "Epoch: 39, train_loss: 0.47423815727233887, train_acc: 0.861130952835083, val_loss: 0.7873138189315796, val_acc: 0.7394958138465881\n",
            "Epoch: 40, train_loss: 0.46179670095443726, train_acc: 0.8690049648284912, val_loss: 0.7800780534744263, val_acc: 0.7394958138465881\n",
            "Epoch: 41, train_loss: 0.4453129172325134, train_acc: 0.8732998967170715, val_loss: 0.7742131352424622, val_acc: 0.7394958138465881\n",
            "Epoch: 42, train_loss: 0.42838481068611145, train_acc: 0.8854688405990601, val_loss: 0.7697440981864929, val_acc: 0.756302535533905\n",
            "Epoch: 43, train_loss: 0.42932066321372986, train_acc: 0.8768789768218994, val_loss: 0.7667619585990906, val_acc: 0.756302535533905\n",
            "Epoch: 44, train_loss: 0.40853989124298096, train_acc: 0.8854688405990601, val_loss: 0.765242874622345, val_acc: 0.7647058963775635\n",
            "Epoch: 45, train_loss: 0.4051821231842041, train_acc: 0.8876162767410278, val_loss: 0.7651869058609009, val_acc: 0.7731092572212219\n",
            "Epoch: 46, train_loss: 0.39558374881744385, train_acc: 0.8890479207038879, val_loss: 0.7666316032409668, val_acc: 0.7647058963775635\n",
            "Epoch: 47, train_loss: 0.38842108845710754, train_acc: 0.9062275886535645, val_loss: 0.7695702910423279, val_acc: 0.756302535533905\n",
            "Epoch: 48, train_loss: 0.3765873312950134, train_acc: 0.8969219326972961, val_loss: 0.7739947438240051, val_acc: 0.7478991746902466\n",
            "Epoch: 49, train_loss: 0.37560775876045227, train_acc: 0.8997852206230164, val_loss: 0.779867947101593, val_acc: 0.7478991746902466\n",
            "Epoch: 50, train_loss: 0.3477155268192291, train_acc: 0.9090908765792847, val_loss: 0.7871145606040955, val_acc: 0.7478991746902466\n",
            "Epoch: 51, train_loss: 0.3425486981868744, train_acc: 0.9112383723258972, val_loss: 0.7957166433334351, val_acc: 0.7478991746902466\n",
            "Epoch: 52, train_loss: 0.3502783179283142, train_acc: 0.9047959446907043, val_loss: 0.8055117726325989, val_acc: 0.7478991746902466\n",
            "Epoch: 53, train_loss: 0.340274840593338, train_acc: 0.9126699566841125, val_loss: 0.8164353966712952, val_acc: 0.7478991746902466\n",
            "Epoch: 54, train_loss: 0.3293123245239258, train_acc: 0.9119541645050049, val_loss: 0.8282904028892517, val_acc: 0.7478991746902466\n",
            "Epoch: 55, train_loss: 0.3259153962135315, train_acc: 0.9126699566841125, val_loss: 0.8409296274185181, val_acc: 0.7478991746902466\n",
            "Epoch: 56, train_loss: 0.32873809337615967, train_acc: 0.9169648885726929, val_loss: 0.8540230393409729, val_acc: 0.7394958138465881\n",
            "Epoch: 57, train_loss: 0.31985965371131897, train_acc: 0.9169648885726929, val_loss: 0.8674882054328918, val_acc: 0.7394958138465881\n",
            "Epoch: 58, train_loss: 0.3208819329738617, train_acc: 0.9198281764984131, val_loss: 0.8811098337173462, val_acc: 0.7142857313156128\n",
            "Epoch: 59, train_loss: 0.30348342657089233, train_acc: 0.9248389005661011, val_loss: 0.8949310779571533, val_acc: 0.7058823704719543\n",
            "Epoch: 60, train_loss: 0.2726428210735321, train_acc: 0.9298496246337891, val_loss: 0.9085902571678162, val_acc: 0.7058823704719543\n",
            "Epoch: 61, train_loss: 0.28231438994407654, train_acc: 0.9255547523498535, val_loss: 0.9219489693641663, val_acc: 0.7058823704719543\n",
            "Epoch: 62, train_loss: 0.2781299948692322, train_acc: 0.9255547523498535, val_loss: 0.934858500957489, val_acc: 0.7058823704719543\n",
            "Epoch: 63, train_loss: 0.272787868976593, train_acc: 0.9212598204612732, val_loss: 0.9471241235733032, val_acc: 0.7142857313156128\n",
            "Epoch: 64, train_loss: 0.2645168900489807, train_acc: 0.9319971203804016, val_loss: 0.9586679935455322, val_acc: 0.7142857313156128\n",
            "Epoch: 65, train_loss: 0.25868114829063416, train_acc: 0.9298496246337891, val_loss: 0.9693846106529236, val_acc: 0.7226890921592712\n",
            "Epoch: 66, train_loss: 0.27691254019737244, train_acc: 0.9312812685966492, val_loss: 0.9793196320533752, val_acc: 0.7226890921592712\n",
            "Epoch: 67, train_loss: 0.24533353745937347, train_acc: 0.9305654764175415, val_loss: 0.9883130788803101, val_acc: 0.7226890921592712\n",
            "Epoch: 68, train_loss: 0.2428496778011322, train_acc: 0.9355762004852295, val_loss: 0.996296226978302, val_acc: 0.7226890921592712\n",
            "Epoch: 69, train_loss: 0.23275728523731232, train_acc: 0.9398711323738098, val_loss: 1.003453016281128, val_acc: 0.7310924530029297\n",
            "Epoch: 70, train_loss: 0.2240801900625229, train_acc: 0.9384394884109497, val_loss: 1.0098040103912354, val_acc: 0.7310924530029297\n",
            "Epoch: 71, train_loss: 0.2236981838941574, train_acc: 0.9420185685157776, val_loss: 1.0154738426208496, val_acc: 0.7310924530029297\n",
            "Epoch: 72, train_loss: 0.1861054003238678, train_acc: 0.947745144367218, val_loss: 1.02060866355896, val_acc: 0.7310924530029297\n",
            "Epoch: 73, train_loss: 0.20373615622520447, train_acc: 0.947745144367218, val_loss: 1.0253404378890991, val_acc: 0.7310924530029297\n",
            "Epoch: 74, train_loss: 0.1897076964378357, train_acc: 0.9434502124786377, val_loss: 1.0297400951385498, val_acc: 0.7394958138465881\n",
            "Epoch: 75, train_loss: 0.20901814103126526, train_acc: 0.94273442029953, val_loss: 1.033853530883789, val_acc: 0.7394958138465881\n",
            "Epoch: 76, train_loss: 0.17979583144187927, train_acc: 0.9556191563606262, val_loss: 1.0377448797225952, val_acc: 0.7394958138465881\n",
            "Epoch: 77, train_loss: 0.19755375385284424, train_acc: 0.94273442029953, val_loss: 1.0414457321166992, val_acc: 0.7478991746902466\n",
            "Epoch: 78, train_loss: 0.18048907816410065, train_acc: 0.9470293521881104, val_loss: 1.045091152191162, val_acc: 0.7478991746902466\n",
            "Epoch: 79, train_loss: 0.15134045481681824, train_acc: 0.9549033641815186, val_loss: 1.048870325088501, val_acc: 0.756302535533905\n",
            "Epoch: 80, train_loss: 0.15638107061386108, train_acc: 0.9591982364654541, val_loss: 1.0529162883758545, val_acc: 0.756302535533905\n",
            "Epoch: 81, train_loss: 0.1628437340259552, train_acc: 0.957766592502594, val_loss: 1.0573413372039795, val_acc: 0.756302535533905\n",
            "Epoch: 82, train_loss: 0.15923647582530975, train_acc: 0.952755868434906, val_loss: 1.0621609687805176, val_acc: 0.756302535533905\n",
            "Epoch: 83, train_loss: 0.14860899746418, train_acc: 0.9584824442863464, val_loss: 1.0674378871917725, val_acc: 0.756302535533905\n",
            "Epoch: 84, train_loss: 0.1514073610305786, train_acc: 0.9599140882492065, val_loss: 1.073161005973816, val_acc: 0.756302535533905\n",
            "Epoch: 85, train_loss: 0.13611474633216858, train_acc: 0.9606298804283142, val_loss: 1.0794419050216675, val_acc: 0.7394958138465881\n",
            "Epoch: 86, train_loss: 0.12776252627372742, train_acc: 0.9649248123168945, val_loss: 1.0862603187561035, val_acc: 0.7394958138465881\n",
            "Epoch: 87, train_loss: 0.12089620530605316, train_acc: 0.9685038924217224, val_loss: 1.0934548377990723, val_acc: 0.7394958138465881\n",
            "Epoch: 88, train_loss: 0.1448245644569397, train_acc: 0.9591982364654541, val_loss: 1.1010973453521729, val_acc: 0.7394958138465881\n",
            "Epoch: 89, train_loss: 0.16674284636974335, train_acc: 0.9556191563606262, val_loss: 1.1091152429580688, val_acc: 0.7394958138465881\n",
            "Epoch: 90, train_loss: 0.15036731958389282, train_acc: 0.9599140882492065, val_loss: 1.1174699068069458, val_acc: 0.7478991746902466\n",
            "Epoch: 91, train_loss: 0.14571964740753174, train_acc: 0.9513242244720459, val_loss: 1.1260030269622803, val_acc: 0.7478991746902466\n",
            "Epoch: 92, train_loss: 0.13235428929328918, train_acc: 0.9627773761749268, val_loss: 1.1346441507339478, val_acc: 0.7478991746902466\n",
            "Epoch: 93, train_loss: 0.14711110293865204, train_acc: 0.9570508003234863, val_loss: 1.143349289894104, val_acc: 0.756302535533905\n",
            "Epoch: 94, train_loss: 0.13793949782848358, train_acc: 0.957766592502594, val_loss: 1.1521382331848145, val_acc: 0.756302535533905\n",
            "Epoch: 95, train_loss: 0.1381974220275879, train_acc: 0.9563350081443787, val_loss: 1.1609833240509033, val_acc: 0.756302535533905\n",
            "Epoch: 96, train_loss: 0.11676933616399765, train_acc: 0.9677881002426147, val_loss: 1.1700234413146973, val_acc: 0.756302535533905\n"
          ]
        }
      ],
      "source": [
        "shadow_data, hold_out_shadowData = generateData(data, graph_sample = 0.6, train_split = 0.7, val_split = 0.2) # generate the shadow data. \n",
        "shadow_model = GraphSAGE(in_channels = 3703, hidden_channels = 32, out_channels = 6, dropout = 0.25)\n",
        "\n",
        "train_losses, val_losses = Train_and_Evaluate(shadow_model, shadow_data, 500, 50, torch.optim.Adam(shadow_model.parameters()), device, \"ShadowSage_Citeseer\")\n",
        "\n"
      ]
    },
    {
      "cell_type": "code",
      "execution_count": 13,
      "metadata": {
        "colab": {},
        "colab_type": "code",
        "id": "VYsL4ZKeET48"
      },
      "outputs": [
        {
          "name": "stdout",
          "output_type": "stream",
          "text": [
            "Test Accuracy:  tensor(0.7208, device='cuda:0')\n"
          ]
        }
      ],
      "source": [
        "model = torch.load(\"ShadowSage_Citeseer\")\n",
        "Evaluate_Test(model, shadow_data)"
      ]
    },
    {
      "cell_type": "code",
      "execution_count": 14,
      "metadata": {},
      "outputs": [
        {
          "data": {
            "text/plain": [
              "<matplotlib.legend.Legend at 0x7f899cabe160>"
            ]
          },
          "execution_count": 14,
          "metadata": {},
          "output_type": "execute_result"
        },
        {
          "data": {
            "image/png": "[encoded data removed]",
            "text/plain": [
              "<Figure size 400x500 with 1 Axes>"
            ]
          },
          "metadata": {},
          "output_type": "display_data"
        }
      ],
      "source": [
        "fig = plt.figure(figsize = [4,5])\n",
        "axes = fig.add_axes(rect = [0,0,1.8,0.65])\n",
        "axes.plot([i for i in range(len(train_losses))], train_losses, label = \"train_loss\")\n",
        "axes.plot([i for i in range(len(val_losses))], val_losses, label = \"val_loss\")\n",
        "plt.xlabel(\"Epochs\")\n",
        "plt.ylabel(\"Loss (Cross Entropy)\")\n",
        "axes.legend()"
      ]
    },
    {
      "cell_type": "code",
      "execution_count": 15,
      "metadata": {},
      "outputs": [
        {
          "name": "stdout",
          "output_type": "stream",
          "text": [
            "Test Accuracy:  tensor(0.6739, device='cuda:0')\n"
          ]
        }
      ],
      "source": [
        "shadow_model = torch.load(\"/home/jik19004/FilesToRun/AdversarialGNN/MIA/blackbox/Shadow/ShadowSage_Citeseer\")\n",
        "hold_out_shadowData.to(device)\n",
        "Evaluate_Test(model, hold_out_shadowData, False)"
      ]
    },
    {
      "cell_type": "code",
      "execution_count": 16,
      "metadata": {},
      "outputs": [],
      "source": [
        "shadow_model.eval()\n",
        "\n",
        "shadow_train = shadow_model(shadow_data)[shadow_data.train_mask] # get the train \n",
        "shadow_test = shadow_model(hold_out_shadowData)\n",
        "\n",
        "y_shadow_train = [1] * shadow_train.shape[0]\n",
        "y_shadow_test = [0] * shadow_test.shape[0]\n",
        "\n",
        "y_train_attack = y_shadow_train + y_shadow_test\n",
        "\n",
        "shadow_train = shadow_train.detach().cpu().numpy() ## put it to cpu device. \n",
        "shadow_test = shadow_test.detach().cpu().numpy()\n",
        "\n",
        "x_train_attack = np.concatenate((shadow_train,shadow_test)) "
      ]
    },
    {
      "cell_type": "code",
      "execution_count": 17,
      "metadata": {},
      "outputs": [
        {
          "name": "stdout",
          "output_type": "stream",
          "text": [
            "(2728, 6)\n"
          ]
        }
      ],
      "source": [
        "subgraph_data.to(device)\n",
        "excluded_original_nodes.to(device)\n",
        "\n",
        "target_train = shadow_model(subgraph_data)[subgraph_data.train_mask]\n",
        "target_test = shadow_model(excluded_original_nodes)\n",
        "\n",
        "y_target_train=[1]*target_train.shape[0]\n",
        "y_target_test=[0]*target_test.shape[0]\n",
        "\n",
        "\n",
        "target_train_copy = target_train.detach().cpu().numpy()\n",
        "target_test_copy = target_test.detach().cpu().numpy() \n",
        "\n",
        "y_test_attack = y_target_train+y_target_test\n",
        "x_test_attack = np.concatenate((target_train_copy, target_test_copy)) \n",
        "print(x_train_attack.shape)"
      ]
    },
    {
      "cell_type": "code",
      "execution_count": 19,
      "metadata": {},
      "outputs": [
        {
          "name": "stderr",
          "output_type": "stream",
          "text": [
            "/home/jik19004/anaconda3/lib/python3.9/site-packages/sklearn/neural_network/_multilayer_perceptron.py:691: ConvergenceWarning: Stochastic Optimizer: Maximum iterations (300) reached and the optimization hasn't converged yet.\n",
            "  warnings.warn(\n"
          ]
        },
        {
          "name": "stdout",
          "output_type": "stream",
          "text": [
            "Test set score: 0.694966\n",
            "              precision    recall  f1-score   support\n",
            "\n",
            "           0       0.66      0.82      0.73       666\n",
            "           1       0.76      0.57      0.65       665\n",
            "\n",
            "    accuracy                           0.69      1331\n",
            "   macro avg       0.71      0.69      0.69      1331\n",
            "weighted avg       0.71      0.69      0.69      1331\n",
            "\n",
            "0.6948745738219423\n"
          ]
        },
        {
          "name": "stderr",
          "output_type": "stream",
          "text": [
            "/home/jik19004/anaconda3/lib/python3.9/site-packages/sklearn/neural_network/_multilayer_perceptron.py:691: ConvergenceWarning: Stochastic Optimizer: Maximum iterations (300) reached and the optimization hasn't converged yet.\n",
            "  warnings.warn(\n"
          ]
        }
      ],
      "source": [
        "from sklearn.neural_network import MLPClassifier\n",
        "from sklearn import metrics\n",
        "clf = MLPClassifier(random_state=1, solver='adam', max_iter=300).fit(x_train_attack, y_train_attack) \n",
        "clf.fit(x_train_attack, y_train_attack) \n",
        "print(\"Test set score: %f\" % clf.score(x_test_attack, y_test_attack)) \n",
        "\n",
        "y_score = clf.predict(x_test_attack) \n",
        "print(metrics.classification_report(y_test_attack, y_score, labels=range(2))) \n",
        "print(metrics.roc_auc_score(y_test_attack, y_score)) "
      ]
    }
  ],
  "metadata": {
    "colab": {
      "collapsed_sections": [],
      "name": "graphsage_Citeseer.ipynb",
      "provenance": []
    },
    "kernelspec": {
      "display_name": "Python 3",
      "language": "python",
      "name": "python3"
    },
    "language_info": {
      "codemirror_mode": {
        "name": "ipython",
        "version": 3
      },
      "file_extension": ".py",
      "mimetype": "text/x-python",
      "name": "python",
      "nbconvert_exporter": "python",
      "pygments_lexer": "ipython3",
      "version": "3.9.13"
    }
  },
  "nbformat": 4,
  "nbformat_minor": 0
}
